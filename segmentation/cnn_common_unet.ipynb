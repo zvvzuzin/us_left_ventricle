{
 "cells": [
  {
   "cell_type": "code",
   "execution_count": 1,
   "metadata": {},
   "outputs": [
    {
     "name": "stdout",
     "output_type": "stream",
     "text": [
      "cuda:0\n"
     ]
    }
   ],
   "source": [
    "import numpy as np\n",
    "from tqdm import tqdm\n",
    "from echo_lv.data import LV_CAMUS_Dataset, LV_EKB_Dataset\n",
    "from echo_lv.metrics import dice as dice_np\n",
    "import torch\n",
    "import torchvision\n",
    "from torch.utils.data import DataLoader\n",
    "from torch import sigmoid\n",
    "from torchvision import datasets, transforms, models\n",
    "import matplotlib.pyplot as plt\n",
    "from torchsummary import summary\n",
    "from echo_lv.utils import AverageMeter\n",
    "import segmentation_models_pytorch as smp\n",
    "from com_unet import UNet\n",
    "\n",
    "device = torch.device(\"cuda:0\" if torch.cuda.is_available() else \"cpu\")\n",
    "print(device)\n",
    "\n",
    "random_state = 17\n",
    "torch.manual_seed(random_state)\n",
    "torch.cuda.manual_seed(random_state)\n",
    "torch.backends.cudnn.deterministic = True"
   ]
  },
  {
   "cell_type": "code",
   "execution_count": 2,
   "metadata": {},
   "outputs": [],
   "source": [
    "model = UNet(n_channels = 1, n_classes = 1, bilinear=False, batchnorm=False).to(device)"
   ]
  },
  {
   "cell_type": "code",
   "execution_count": 3,
   "metadata": {},
   "outputs": [
    {
     "name": "stdout",
     "output_type": "stream",
     "text": [
      "----------------------------------------------------------------\n",
      "        Layer (type)               Output Shape         Param #\n",
      "================================================================\n",
      "            Conv2d-1         [-1, 64, 570, 570]             640\n",
      "              ReLU-2         [-1, 64, 570, 570]               0\n",
      "            Conv2d-3         [-1, 64, 568, 568]          36,928\n",
      "              ReLU-4         [-1, 64, 568, 568]               0\n",
      "        DoubleConv-5         [-1, 64, 568, 568]               0\n",
      "         MaxPool2d-6         [-1, 64, 284, 284]               0\n",
      "            Conv2d-7        [-1, 128, 282, 282]          73,856\n",
      "              ReLU-8        [-1, 128, 282, 282]               0\n",
      "            Conv2d-9        [-1, 128, 280, 280]         147,584\n",
      "             ReLU-10        [-1, 128, 280, 280]               0\n",
      "       DoubleConv-11        [-1, 128, 280, 280]               0\n",
      "             Down-12        [-1, 128, 280, 280]               0\n",
      "        MaxPool2d-13        [-1, 128, 140, 140]               0\n",
      "           Conv2d-14        [-1, 256, 138, 138]         295,168\n",
      "             ReLU-15        [-1, 256, 138, 138]               0\n",
      "           Conv2d-16        [-1, 256, 136, 136]         590,080\n",
      "             ReLU-17        [-1, 256, 136, 136]               0\n",
      "       DoubleConv-18        [-1, 256, 136, 136]               0\n",
      "             Down-19        [-1, 256, 136, 136]               0\n",
      "        MaxPool2d-20          [-1, 256, 68, 68]               0\n",
      "           Conv2d-21          [-1, 512, 66, 66]       1,180,160\n",
      "             ReLU-22          [-1, 512, 66, 66]               0\n",
      "           Conv2d-23          [-1, 512, 64, 64]       2,359,808\n",
      "             ReLU-24          [-1, 512, 64, 64]               0\n",
      "       DoubleConv-25          [-1, 512, 64, 64]               0\n",
      "             Down-26          [-1, 512, 64, 64]               0\n",
      "        MaxPool2d-27          [-1, 512, 32, 32]               0\n",
      "           Conv2d-28         [-1, 1024, 30, 30]       4,719,616\n",
      "             ReLU-29         [-1, 1024, 30, 30]               0\n",
      "           Conv2d-30         [-1, 1024, 28, 28]       9,438,208\n",
      "             ReLU-31         [-1, 1024, 28, 28]               0\n",
      "       DoubleConv-32         [-1, 1024, 28, 28]               0\n",
      "             Down-33         [-1, 1024, 28, 28]               0\n",
      "  ConvTranspose2d-34          [-1, 512, 56, 56]       2,097,664\n",
      "           Conv2d-35          [-1, 512, 54, 54]       4,719,104\n",
      "             ReLU-36          [-1, 512, 54, 54]               0\n",
      "           Conv2d-37          [-1, 512, 52, 52]       2,359,808\n",
      "             ReLU-38          [-1, 512, 52, 52]               0\n",
      "       DoubleConv-39          [-1, 512, 52, 52]               0\n",
      "               Up-40          [-1, 512, 52, 52]               0\n",
      "  ConvTranspose2d-41        [-1, 256, 104, 104]         524,544\n",
      "           Conv2d-42        [-1, 256, 102, 102]       1,179,904\n",
      "             ReLU-43        [-1, 256, 102, 102]               0\n",
      "           Conv2d-44        [-1, 256, 100, 100]         590,080\n",
      "             ReLU-45        [-1, 256, 100, 100]               0\n",
      "       DoubleConv-46        [-1, 256, 100, 100]               0\n",
      "               Up-47        [-1, 256, 100, 100]               0\n",
      "  ConvTranspose2d-48        [-1, 128, 200, 200]         131,200\n",
      "           Conv2d-49        [-1, 128, 198, 198]         295,040\n",
      "             ReLU-50        [-1, 128, 198, 198]               0\n",
      "           Conv2d-51        [-1, 128, 196, 196]         147,584\n",
      "             ReLU-52        [-1, 128, 196, 196]               0\n",
      "       DoubleConv-53        [-1, 128, 196, 196]               0\n",
      "               Up-54        [-1, 128, 196, 196]               0\n",
      "  ConvTranspose2d-55         [-1, 64, 392, 392]          32,832\n",
      "           Conv2d-56         [-1, 64, 390, 390]          73,792\n",
      "             ReLU-57         [-1, 64, 390, 390]               0\n",
      "           Conv2d-58         [-1, 64, 388, 388]          36,928\n",
      "             ReLU-59         [-1, 64, 388, 388]               0\n",
      "       DoubleConv-60         [-1, 64, 388, 388]               0\n",
      "               Up-61         [-1, 64, 388, 388]               0\n",
      "           Conv2d-62          [-1, 1, 388, 388]              65\n",
      "          OutConv-63          [-1, 1, 388, 388]               0\n",
      "================================================================\n",
      "Total params: 31,030,593\n",
      "Trainable params: 31,030,593\n",
      "Non-trainable params: 0\n",
      "----------------------------------------------------------------\n",
      "Input size (MB): 1.25\n",
      "Forward/backward pass size (MB): 2681.25\n",
      "Params size (MB): 118.37\n",
      "Estimated Total Size (MB): 2800.87\n",
      "----------------------------------------------------------------\n"
     ]
    }
   ],
   "source": [
    "summary(model, (1, 572, 572), device='cuda')"
   ]
  },
  {
   "cell_type": "code",
   "execution_count": 4,
   "metadata": {},
   "outputs": [],
   "source": [
    "folds = 10\n",
    "lv_camus = LV_CAMUS_Dataset(img_size = (388,388), classes = {0, 1}, folds=folds)\n",
    "# lv_camus_valid = LV_CAMUS_Dataset(img_size = (572,572), classes = {0, 1}, folds=10, subset='valid')\n",
    "lv_camus.set_state('train', 0)\n",
    "train_loader = DataLoader(lv_camus, batch_size=1, shuffle=True, num_workers=4)"
   ]
  },
  {
   "cell_type": "code",
   "execution_count": 7,
   "metadata": {},
   "outputs": [
    {
     "data": {
      "text/plain": [
       "144"
      ]
     },
     "execution_count": 7,
     "metadata": {},
     "output_type": "execute_result"
    }
   ],
   "source": [
    "lv_camus.set_state(subset='valid', fold=9)\n",
    "len(lv_camus)"
   ]
  },
  {
   "cell_type": "code",
   "execution_count": 8,
   "metadata": {},
   "outputs": [
    {
     "data": {
      "text/plain": [
       "1656"
      ]
     },
     "execution_count": 8,
     "metadata": {},
     "output_type": "execute_result"
    }
   ],
   "source": [
    "lv_camus.set_state(subset='train', fold=9)\n",
    "len(lv_camus)"
   ]
  },
  {
   "cell_type": "code",
   "execution_count": 5,
   "metadata": {},
   "outputs": [
    {
     "name": "stderr",
     "output_type": "stream",
     "text": [
      "Train unet on fold 0 | 50/50 | loss : 0.0577 | dice_lv : 0.9237 | val_loss : 0.1575 | val_dice_lv : 0.8810\n"
     ]
    }
   ],
   "source": [
    "\n",
    "epochs = 50\n",
    "\n",
    "# criterion = torch.nn.functional.binary_cross_entropy_with_logits #DiceLoss_1()\n",
    "# criterion = smp.utils.losses.DiceLoss(activation='sigmoid')# + smp.utils.losses.BCEWithLogitsLoss()\n",
    "weight = 10 * torch.ones((1,1,388,388), device=device)\n",
    "criterion = smp.utils.losses.BCEWithLogitsLoss(pos_weight=weight)\n",
    "# criterion = smp.utils.losses.DiceLoss(activation='sigmoid')\n",
    "dice = smp.utils.metrics.Fscore(activation='sigmoid', threshold=0.5)#Dice()\n",
    "iou = smp.utils.metrics.IoU(activation='sigmoid', threshold=0.5)\n",
    "result = []\n",
    "\n",
    "for fold in range(1):\n",
    "    \n",
    "    model = UNet(n_channels = 1, n_classes = 1, bilinear=False).to(device)\n",
    "    \n",
    "    optimizer = torch.optim.SGD([\n",
    "            {'params': model.parameters(), 'lr': 1e-3},   \n",
    "        ])\n",
    "    \n",
    "     # создаем даталодер\n",
    "    \n",
    "    \n",
    "    \n",
    "    val_dice = 0\n",
    "    \n",
    "    t = tqdm(total=epochs, \n",
    "            bar_format='{desc} | {postfix[0]}/'+ str(epochs) +' | ' +\n",
    "            '{postfix[1]} : {postfix[2]:>2.4f} | {postfix[3]} : {postfix[4]:>2.4f} | ' +\n",
    "            '{postfix[5]} : {postfix[6]:>2.4f} | {postfix[7]} : {postfix[8]:>2.4f}',\n",
    "            postfix=[0, 'loss', 0, 'dice_lv', 0,  \n",
    "                     'val_loss', 0, 'val_dice_lv', val_dice, 0], \n",
    "            desc = 'Train ' + 'unet' +   ' on fold ' + str(fold),\n",
    "            position=0, leave=True\n",
    "         )\n",
    "    \n",
    "#         t.reset()\n",
    "            \n",
    "        \n",
    "        \n",
    "    for epoch in range(0, epochs):\n",
    "        average_total_loss = AverageMeter()\n",
    "        average_dice = AverageMeter()\n",
    "        torch.cuda.empty_cache()\n",
    "        model.train()\n",
    "\n",
    "        t.postfix[0] = epoch + 1\n",
    "        \n",
    "        lv_camus.set_state('train', fold)\n",
    "        train_loader = DataLoader(lv_camus, batch_size=2, shuffle=True, num_workers=4)\n",
    "        for data in train_loader:\n",
    "\n",
    "            torch.cuda.empty_cache()\n",
    "            inputs, masks, *_ = data\n",
    "            shape = inputs.shape\n",
    "            inputs = torch.cat([torch.zeros((shape[0], shape[1], shape[2], 92), dtype=float), inputs, torch.zeros((shape[0], shape[1], shape[2], 92), dtype=float)], axis=3)\n",
    "            shape = inputs.shape\n",
    "            inputs = torch.cat([torch.zeros((shape[0], shape[1], 92, shape[3]), dtype=float), inputs, torch.zeros((shape[0], shape[1], 92, shape[3]), dtype=float)], axis=2)\n",
    "            inputs=inputs.to(device).float()\n",
    "#             masks=masks[:,:,92:480,92:480].to(device).float()\n",
    "            masks=masks.to(device).float()\n",
    "\n",
    "            optimizer.zero_grad()\n",
    "            outputs = model(inputs)\n",
    "\n",
    "            loss = criterion(outputs, masks)\n",
    "\n",
    "            average_total_loss.update(loss.data.item())\n",
    "\n",
    "            average_dice.update(dice(outputs, masks).item())\n",
    "\n",
    "            loss.backward()\n",
    "            optimizer.step()\n",
    "\n",
    "            t.postfix[2] = average_total_loss.average()\n",
    "            t.postfix[4] = average_dice.average()\n",
    "            t.update(n=1)\n",
    "\n",
    "         # validation\n",
    "        average_val_total_loss = AverageMeter()\n",
    "        average_val_dice = AverageMeter()\n",
    "        model.eval()\n",
    "        \n",
    "        lv_camus.set_state('valid', fold)\n",
    "        valid_loader = DataLoader(lv_camus, batch_size=2, shuffle=True, num_workers=2)\n",
    "        for data in valid_loader:\n",
    "            inputs, masks, *_ = data\n",
    "\n",
    "            shape = inputs.shape\n",
    "            inputs = torch.cat([torch.zeros((shape[0], shape[1], shape[2], 92), dtype=float), inputs, torch.zeros((shape[0], shape[1], shape[2], 92), dtype=float)], axis=3)\n",
    "            shape = inputs.shape\n",
    "            inputs = torch.cat([torch.zeros((shape[0], shape[1], 92, shape[3]), dtype=float), inputs, torch.zeros((shape[0], shape[1], 92, shape[3]), dtype=float)], axis=2)\n",
    "            inputs=inputs.to(device).float()\n",
    "#             masks=masks[:,:,92:480,92:480].to(device).float()\n",
    "            masks=masks.to(device).float()\n",
    "\n",
    "            outputs = model(inputs)\n",
    "\n",
    "            loss = criterion(outputs, masks)\n",
    "\n",
    "            average_val_total_loss.update(loss.data.item())\n",
    "\n",
    "            average_val_dice.update(dice(outputs, masks).item())\n",
    "\n",
    "            t.postfix[6] = average_val_total_loss.average()\n",
    "            t.postfix[8] = average_val_dice.average()\n",
    "            t.update(n=0)\n",
    "\n",
    "        val_loss = average_val_total_loss.average()\n",
    "        val_dice = average_val_dice.average()\n",
    "\n",
    "            \n",
    "#             if val_dice_0 < 2e-2 or val_dice_1 < 2e-2 or val_dice_2 < 2e-2 or val_dice_3 < 2e-2:\n",
    "#                 break\n",
    "                \n",
    "#             if epoch > 5 and val_loss > 0.15:\n",
    "#                 val_dice_0 = 0\n",
    "#                 val_dice_1 = 0\n",
    "#                 val_dice_2 = 0\n",
    "#                 val_dice_3 = 0\n",
    "#                 break\n",
    "                    \n",
    "    t.close()\n",
    "#     result.append([average_total_loss.average(), average_dice[0].average(), average_dice[1].average(), average_dice[2].average(), average_dice[3].average(),\n",
    "#                    average_val_total_loss.average(), average_val_dice[0].average(), average_val_dice[1].average(), average_val_dice[2].average(), average_val_dice[3].average()\n",
    "#                   ])\n",
    "\n",
    "# df = pd.DataFrame(np.array(result), columns=['loss', 'dice_bg', 'dice_lv', 'dice_ep', 'dice_la', 'val_loss', 'val_dice_bg', 'val_dice_lv', 'val_dice_ep', 'val_dice_la'])\n",
    "# df.to_csv('result.csv')"
   ]
  },
  {
   "cell_type": "code",
   "execution_count": 10,
   "metadata": {},
   "outputs": [],
   "source": [
    "torch.save(model.state_dict(), 'common_unet_wo_bn.pth')"
   ]
  },
  {
   "cell_type": "code",
   "execution_count": null,
   "metadata": {},
   "outputs": [],
   "source": []
  }
 ],
 "metadata": {
  "kernelspec": {
   "display_name": "Python 3",
   "language": "python",
   "name": "python3"
  },
  "language_info": {
   "codemirror_mode": {
    "name": "ipython",
    "version": 3
   },
   "file_extension": ".py",
   "mimetype": "text/x-python",
   "name": "python",
   "nbconvert_exporter": "python",
   "pygments_lexer": "ipython3",
   "version": "3.6.8"
  }
 },
 "nbformat": 4,
 "nbformat_minor": 4
}
